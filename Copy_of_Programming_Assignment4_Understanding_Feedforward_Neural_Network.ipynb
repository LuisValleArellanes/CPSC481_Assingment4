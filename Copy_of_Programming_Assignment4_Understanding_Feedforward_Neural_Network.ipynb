{
  "nbformat": 4,
  "nbformat_minor": 0,
  "metadata": {
    "colab": {
      "provenance": []
    },
    "kernelspec": {
      "name": "python3",
      "display_name": "Python 3"
    },
    "language_info": {
      "name": "python"
    }
  },
  "cells": [
    {
      "cell_type": "markdown",
      "source": [
        "## <b>Understanding Feedforward Neural Network</b>"
      ],
      "metadata": {
        "id": "be6QWnmo_90p"
      }
    },
    {
      "cell_type": "markdown",
      "source": [
        "In this assignment, you are required to build 3 Feedforward Neural Networks(FNNs) to simulate function\n",
        "<br> $y = 7x_1^3 - x_2 \\cdot x_1^2 \\cdot \\frac {1-e^{(x_1+1)x_2}}{1-e^{x_2+1}} $\n",
        "<br> in range x1: +-10, x2: +-10\n",
        "<br> You need to have a different structure for each model you build."
      ],
      "metadata": {
        "id": "q17Fv-S-AFPw"
      }
    },
    {
      "cell_type": "markdown",
      "source": [
        "##Requirements"
      ],
      "metadata": {
        "id": "5qw2_zjxqTnq"
      }
    },
    {
      "cell_type": "markdown",
      "source": [
        "1 You are required to finish each part below following instructions.\n",
        "<br>2 You may work on native py files, but your work needs to include same documentation. You may use pytorch or tensorflow keras.\n",
        "<br>3 You may work in a group of 3.\n",
        "\n",
        "<br><b>For submission, submit a link to your github repo</b>\n",
        "<br>Each student in the group must all submit."
      ],
      "metadata": {
        "id": "3aQW7EXPFs5p"
      }
    },
    {
      "cell_type": "markdown",
      "source": [
        "#### Part 1 data preparation\n",
        "\n",
        "In the cell below, generate training data for your model.\n",
        "<br> In the interval of x1: +-10, x2: +-10, generate 1000 data for x1 and 1000 data for x2.\n",
        "<br>All data need to be separated by the same distance.\n",
        "\n",
        "<br>That is, you need to generate one value for y for every 0.02 differences in x1 or x2,\n",
        "<br>and have a total of 1000000 data in your training dataset.\n"
      ],
      "metadata": {
        "id": "QxFzMiVTFpYq"
      }
    },
    {
      "cell_type": "code",
      "execution_count": null,
      "metadata": {
        "id": "YJs8FWjw9TC8",
        "colab": {
          "base_uri": "https://localhost:8080/"
        },
        "outputId": "099cb3ad-57ad-466a-cca9-e2890fc8db5b"
      },
      "outputs": [
        {
          "output_type": "stream",
          "name": "stdout",
          "text": [
            "(1000000, 3)\n",
            "[[-4.00000000e+00 -4.00000000e+00 -1.09624569e+07]\n",
            " [-3.99199199e+00 -4.00000000e+00 -1.05744152e+07]\n",
            " [-3.98398398e+00 -4.00000000e+00 -1.02000274e+07]\n",
            " [-3.97597598e+00 -4.00000000e+00 -9.83881559e+06]\n",
            " [-3.96796797e+00 -4.00000000e+00 -9.49031863e+06]]\n"
          ]
        }
      ],
      "source": [
        "import numpy as np\n",
        "\n",
        "# Define the function to compute y, vectorized for array inputs\n",
        "#the function will calculate y value given x1 and x2 based on the formula\n",
        "#no.clip prevents overflow.\n",
        "def compute_stable_function_vectorized(x1, x2):\n",
        "    numerator = 1 - np.exp(np.clip((x1 + 1) * x2, a_min=None, a_max=700))\n",
        "    denominator = 1 - np.exp(np.clip(x2 + 1, a_min=None, a_max=700))\n",
        "    y = 7 * x1**3 - x2 * x1**2 * (numerator / denominator)\n",
        "    return y\n",
        "\n",
        "# Define the intervals\n",
        "x1_values = np.linspace(-10, 10, 1000)  # 1000000 points for x1\n",
        "x2_values = np.linspace(-10, 10, 1000)  # 1000000 points for x2\n",
        "\n",
        "# Generate a grid of x1 and x2 values\n",
        "#np takes the arrays x1_values and x2_values and creates a 2d array on x1_grid and x2_grid\n",
        "x1_grid, x2_grid = np.meshgrid(x1_values, x2_values)\n",
        "\n",
        "\n",
        "# Compute y values for the entire grid using the vectorized function\n",
        "#computes y for each combo of x1 and x2 using the function\n",
        "y_grid = compute_stable_function_vectorized(x1_grid, x2_grid)\n",
        "\n",
        "# Flatten the grids and create the training data array\n",
        "#np.column_stack combines the 3 arrays into a single 2d array with 3 columns\n",
        "training_data = np.column_stack((x1_grid.ravel(), x2_grid.ravel(), y_grid.ravel()))\n",
        "\n",
        "# Print the shape of the generated data and the first 5 rows\n",
        "print(training_data.shape)\n",
        "print(training_data[:5])\n"
      ]
    },
    {
      "cell_type": "markdown",
      "source": [
        "#### Part 2 build models\n",
        "\n",
        "In the cells below, build your models and train it with data from part1.\n",
        "<br>You need to split your training data to two parts. With 40% used in training, and 60% used in test.\n",
        "\n",
        "<br>You may do this with sklearn's train_test_split() or keras' validation_split together with train_test_split()."
      ],
      "metadata": {
        "id": "zgCswSdCJGNF"
      }
    },
    {
      "cell_type": "code",
      "source": [
        "from sklearn.model_selection import train_test_split\n",
        "from tensorflow.keras.models import Sequential\n",
        "from tensorflow.keras.layers import Dense\n",
        "# Assuming 'training_data' is your dataset\n",
        "# gets data from the top dataset that was created\n",
        "X = training_data[:, :2]  # Input features (first two columns)\n",
        "y = training_data[:, 2]   # Target variable (third column)\n",
        "\n",
        "# Split the data into training and testing sets (40% train, 60% test)\n",
        "X_train, X_test, y_train, y_test = train_test_split(X, y, test_size=0.6, random_state=42)\n",
        "\n",
        "# Model 1: Basic Model\n",
        "#Sequential model is a linear stack of layers which is defined by 3 Dense layers.\n",
        "#first one is 32 neurons w/ RElu active function. the input shape 2 means the input feature has 2 dimensions\n",
        "#Second one is 16 neurons w/ REllu active function\n",
        "#Third one is the OUTPUT\n",
        "model_1 = Sequential([\n",
        "    Dense(32, input_shape=(2,), activation='relu'),\n",
        "    Dense(16, activation='relu'),\n",
        "    Dense(1)\n",
        "])\n",
        "#compiles the model w/ the adam optimization and mean_squared_error\n",
        "#Adam is a algo used for optimizing neural networks thats included in libraries in TensorFlow or Pytortch\n",
        "model_1.compile(optimizer='adam', loss='mean_squared_error')\n"
      ],
      "metadata": {
        "id": "nT4G0XhGJHXF"
      },
      "execution_count": null,
      "outputs": []
    },
    {
      "cell_type": "code",
      "source": [
        "from sklearn.model_selection import train_test_split\n",
        "from tensorflow.keras.models import Sequential\n",
        "from tensorflow.keras.layers import Dense\n",
        "# Assuming 'training_data' is your dataset\n",
        "X = training_data[:, :2]  # Input features (first two columns)\n",
        "y = training_data[:, 2]   # Target variable (third column)\n",
        "\n",
        "# Split the data into training and testing sets (40% train, 60% test)\n",
        "X_train, X_test, y_train, y_test = train_test_split(X, y, test_size=0.6, random_state=42)\n",
        "\n",
        "# model 2\n",
        "model_2 = Sequential([\n",
        "    Dense(64, input_shape=(2,), activation='relu'),\n",
        "    Dense(32, activation='relu'),\n",
        "    Dense(16, activation='relu'),\n",
        "    Dense(1)\n",
        "])\n",
        "model_2.compile(optimizer='adam', loss='mean_squared_error')\n",
        "\n"
      ],
      "metadata": {
        "id": "dNKmqDxQJyQ2"
      },
      "execution_count": null,
      "outputs": []
    },
    {
      "cell_type": "code",
      "source": [
        "from sklearn.model_selection import train_test_split\n",
        "from tensorflow.keras.models import Sequential\n",
        "from tensorflow.keras.layers import Dense\n",
        "# Assuming 'training_data' is your dataset\n",
        "X = training_data[:, :2]  # Input features (first two columns)\n",
        "y = training_data[:, 2]   # Target variable (third column)\n",
        "\n",
        "# Split the data into training and testing sets\n",
        "X_train, X_test, y_train, y_test = train_test_split(X, y, test_size=0.6, random_state=42)\n",
        "\n",
        "# model 3\n",
        "\n",
        "model_3 = Sequential([\n",
        "    Dense(128, input_shape=(2,), activation='relu'),\n",
        "    Dense(64, activation='relu'),\n",
        "    Dense(32, activation='relu'),\n",
        "    Dense(16, activation='relu'),\n",
        "    Dense(1)\n",
        "])\n",
        "model_3.compile(optimizer='adam', loss='mean_squared_error')\n",
        "\n",
        "\n"
      ],
      "metadata": {
        "id": "bJpwU6v0JyWT"
      },
      "execution_count": null,
      "outputs": []
    },
    {
      "cell_type": "markdown",
      "source": [
        "#### Part 3 model evaluation\n",
        "\n",
        "In the cells below, eval your model with training data, test data ( with model.evaluate( ) ), and plot your predict result on the same plot with the plot of goal function.\n",
        "\n",
        "<br>If you are not sure how to do 3D plot, you may plot x1-y plane and x2-y plane separately"
      ],
      "metadata": {
        "id": "pzJ2ZNGKJ9oF"
      }
    },
    {
      "cell_type": "code",
      "source": [
        "# @title Default title text\n",
        "\n",
        "#This entire block of code will measure 2 things: how well it learned using the training data\n",
        "#and how it performs without training data\n",
        "\n",
        "# Evaluate models on training data\n",
        "train_loss_1 = model_1.evaluate(X_train, y_train)\n",
        "train_loss_2 = model_2.evaluate(X_train, y_train)\n",
        "train_loss_3 = model_3.evaluate(X_train, y_train)\n",
        "\n",
        "# Evaluate models on test data\n",
        "test_loss_1 = model_1.evaluate(X_test, y_test)\n",
        "test_loss_2 = model_2.evaluate(X_test, y_test)\n",
        "test_loss_3 = model_3.evaluate(X_test, y_test)\n",
        "\n",
        "# Print the losses\n",
        "print(\"Model 1 - Training Loss:\", train_loss_1, \"Test Loss:\", test_loss_1)\n",
        "print(\"Model 2 - Training Loss:\", train_loss_2, \"Test Loss:\", test_loss_2)\n",
        "print(\"Model 3 - Training Loss:\", train_loss_3, \"Test Loss:\", test_loss_3)\n",
        "\n",
        "\n",
        "\n"
      ],
      "metadata": {
        "id": "MCHdT5BxNMnN",
        "colab": {
          "base_uri": "https://localhost:8080/"
        },
        "outputId": "d83033e9-b2e9-48d6-de4a-695d1ebbf25b"
      },
      "execution_count": null,
      "outputs": [
        {
          "output_type": "stream",
          "name": "stdout",
          "text": [
            "12500/12500 [==============================] - 19s 2ms/step - loss: 9139797360640.0000\n",
            "12500/12500 [==============================] - 20s 2ms/step - loss: 9139797360640.0000\n",
            "12500/12500 [==============================] - 20s 2ms/step - loss: 9139797360640.0000\n",
            "18750/18750 [==============================] - 29s 2ms/step - loss: 10486484566016.0000\n",
            "18750/18750 [==============================] - 30s 2ms/step - loss: 10486484566016.0000\n",
            "18750/18750 [==============================] - 31s 2ms/step - loss: 10486484566016.0000\n",
            "Model 1 - Training Loss: 9139797360640.0 Test Loss: 10486484566016.0\n",
            "Model 2 - Training Loss: 9139797360640.0 Test Loss: 10486484566016.0\n",
            "Model 3 - Training Loss: 9139797360640.0 Test Loss: 10486484566016.0\n"
          ]
        }
      ]
    },
    {
      "cell_type": "code",
      "source": [
        "# Generate predictions\n",
        "y_pred_1 = model_1.predict(X_test)\n",
        "y_pred_2 = model_2.predict(X_test)\n",
        "y_pred_3 = model_3.predict(X_test)\n"
      ],
      "metadata": {
        "colab": {
          "base_uri": "https://localhost:8080/"
        },
        "id": "Rt3gj9uhcYSr",
        "outputId": "41a5bdf9-4c1f-468b-d61b-1929e56ffe5f"
      },
      "execution_count": null,
      "outputs": [
        {
          "output_type": "stream",
          "name": "stdout",
          "text": [
            "18750/18750 [==============================] - 29s 2ms/step\n",
            "18750/18750 [==============================] - 28s 1ms/step\n",
            "18750/18750 [==============================] - 30s 2ms/step\n"
          ]
        }
      ]
    },
    {
      "cell_type": "code",
      "source": [
        "import matplotlib.pyplot as plt\n",
        "\n",
        "# Plotting for Model 1 - x1-y plane\n",
        "plt.figure(figsize=(10, 4))\n",
        "plt.subplot(1, 2, 1)\n",
        "plt.scatter(X_test[:, 0], y_test, label='Actual')\n",
        "plt.scatter(X_test[:, 0], y_pred_1, label='Predicted', color='r')\n",
        "plt.title('Model 1: x1-y plane')\n",
        "plt.xlabel('x1')\n",
        "plt.ylabel('y')\n",
        "plt.legend()\n",
        "\n",
        "# Plotting for Model 1 - x2-y plane\n",
        "plt.subplot(1, 2, 2)\n",
        "plt.scatter(X_test[:, 1], y_test, label='Actual')\n",
        "plt.scatter(X_test[:, 1], y_pred_1, label='Predicted', color='r')\n",
        "plt.title('Model 1: x2-y plane')\n",
        "plt.xlabel('x2')\n",
        "plt.ylabel('y')\n",
        "plt.legend()\n",
        "\n",
        "plt.show()\n",
        "\n",
        "# Repeat similar plots for Model 2 and Model 3\n"
      ],
      "metadata": {
        "colab": {
          "base_uri": "https://localhost:8080/",
          "height": 362
        },
        "id": "9uzJnzq_dSFp",
        "outputId": "134b61ef-00c4-40e3-e5fd-9ee24e48ebac"
      },
      "execution_count": null,
      "outputs": [
        {
          "output_type": "display_data",
          "data": {
            "text/plain": [
              "<Figure size 1000x400 with 2 Axes>"
            ],
            "image/png": "[encoded data removed]"
          },
          "metadata": {}
        }
      ]
    },
    {
      "cell_type": "code",
      "source": [
        "import matplotlib.pyplot as plt\n",
        "\n",
        "# Plotting for Model 1 - x1-y plane\n",
        "plt.figure(figsize=(10, 4))\n",
        "plt.subplot(1, 2, 1)\n",
        "plt.scatter(X_test[:, 0], y_test, label='Actual')\n",
        "plt.scatter(X_test[:, 0], y_pred_2, label='Predicted', color='r')\n",
        "plt.title('Model 2: x1-y plane')\n",
        "plt.xlabel('x1')\n",
        "plt.ylabel('y')\n",
        "plt.legend()\n",
        "\n",
        "# Plotting for Model 1 - x2-y plane\n",
        "plt.subplot(1, 2, 2)\n",
        "plt.scatter(X_test[:, 1], y_test, label='Actual')\n",
        "plt.scatter(X_test[:, 1], y_pred_2, label='Predicted', color='r')\n",
        "plt.title('Model 2: x2-y plane')\n",
        "plt.xlabel('x2')\n",
        "plt.ylabel('y')\n",
        "plt.legend()\n",
        "\n",
        "plt.show()\n",
        "\n",
        "# Repeat similar plots for Model 2 and Model 3\n"
      ],
      "metadata": {
        "colab": {
          "base_uri": "https://localhost:8080/",
          "height": 362
        },
        "id": "HILsuuXeeLdq",
        "outputId": "9ae49e2d-63f3-4352-c1ca-3af95fb3b0d5"
      },
      "execution_count": null,
      "outputs": [
        {
          "output_type": "display_data",
          "data": {
            "text/plain": [
              "<Figure size 1000x400 with 2 Axes>"
            ],
            "image/png": "[encoded data removed]"
          },
          "metadata": {}
        }
      ]
    },
    {
      "cell_type": "code",
      "source": [
        "import matplotlib.pyplot as plt\n",
        "\n",
        "# Plotting for Model 1 - x1-y plane\n",
        "plt.figure(figsize=(10, 4))\n",
        "plt.subplot(1, 2, 1)\n",
        "plt.scatter(X_test[:, 0], y_test, label='Actual')\n",
        "plt.scatter(X_test[:, 0], y_pred_3, label='Predicted', color='r')\n",
        "plt.title('Model 1: x1-y plane')\n",
        "plt.xlabel('x1')\n",
        "plt.ylabel('y')\n",
        "plt.legend()\n",
        "\n",
        "# Plotting for Model 1 - x2-y plane\n",
        "plt.subplot(1, 2, 2)\n",
        "plt.scatter(X_test[:, 1], y_test, label='Actual')\n",
        "plt.scatter(X_test[:, 1], y_pred_3, label='Predicted', color='r')\n",
        "plt.title('Model 1: x2-y plane')\n",
        "plt.xlabel('x2')\n",
        "plt.ylabel('y')\n",
        "plt.legend()\n",
        "\n",
        "plt.show()\n",
        "\n",
        "# Repeat similar plots for Model 2 and Model 3\n"
      ],
      "metadata": {
        "colab": {
          "base_uri": "https://localhost:8080/",
          "height": 362
        },
        "id": "UEYbz5nBfCEZ",
        "outputId": "dada6b3f-ff81-4b2e-c26e-53bb74496593"
      },
      "execution_count": null,
      "outputs": [
        {
          "output_type": "display_data",
          "data": {
            "text/plain": [
              "<Figure size 1000x400 with 2 Axes>"
            ],
            "image/png": "[encoded data removed]"
          },
          "metadata": {}
        }
      ]
    },
    {
      "cell_type": "markdown",
      "source": [
        "#### Part 4 get model output and feedforward by yourself\n",
        "\n",
        "Recall how a FNN gets its output. Now choose your model with highest accuracy, and call get_weights( ) to get its weights and bias.\n",
        "<br> Hint: bias and weights have different dimensions in most cases. Try to guess which index represent bias before you look it up on the internet.\n",
        "\n",
        "<br> Afterwards, choose 5 data from your training dataset, do all the necessary calculations (with program of course), and get the output of your model. Compare it to the model.predict( ) result.\n",
        "<br> They should be identical for the first several digitals, if not for all digits."
      ],
      "metadata": {
        "id": "t3XlrMjvNPIq"
      }
    },
    {
      "cell_type": "code",
      "source": [
        "\n",
        "\n",
        "chosen_model = model_1\n",
        "\n"
      ],
      "metadata": {
        "id": "QlJCicHTOndf"
      },
      "execution_count": null,
      "outputs": []
    },
    {
      "cell_type": "code",
      "source": [
        "# This will give you a list where weights and biases are alternately placed.\n",
        "weights_and_biases = chosen_model.get_weights()\n"
      ],
      "metadata": {
        "id": "LslDYtsblI6o"
      },
      "execution_count": null,
      "outputs": []
    },
    {
      "cell_type": "code",
      "source": [
        "sample_data = X_train[:5]\n"
      ],
      "metadata": {
        "id": "ef4kxwwmlOUJ"
      },
      "execution_count": null,
      "outputs": []
    },
    {
      "cell_type": "code",
      "source": [
        "def relu(x):\n",
        "    return np.maximum(0, x)\n",
        "\n",
        "# Assuming model_1 has 3 layers with ReLU activation in the first two layers and linear in the output layer\n",
        "layer1_output = relu(np.dot(sample_data, weights_and_biases[0]) + weights_and_biases[1])\n",
        "layer2_output = relu(np.dot(layer1_output, weights_and_biases[2]) + weights_and_biases[3])\n",
        "model_output = np.dot(layer2_output, weights_and_biases[4]) + weights_and_biases[5]\n"
      ],
      "metadata": {
        "id": "IMxXHyhjlRZ9"
      },
      "execution_count": null,
      "outputs": []
    },
    {
      "cell_type": "code",
      "source": [
        "predicted_output = chosen_model.predict(sample_data)\n",
        "\n",
        "# Print and compare both outputs\n",
        "print(\"Manual Feedforward Output:\\n\", model_output)\n",
        "print(\"\\nModel Predict Output:\\n\", predicted_output)\n"
      ],
      "metadata": {
        "id": "W-rjZjrLlVL6",
        "outputId": "e0a8c448-987f-436a-ed7b-5820ef37cf61",
        "colab": {
          "base_uri": "https://localhost:8080/"
        }
      },
      "execution_count": null,
      "outputs": [
        {
          "output_type": "stream",
          "name": "stdout",
          "text": [
            "1/1 [==============================] - 0s 96ms/step\n",
            "Manual Feedforward Output:\n",
            " [[ 0.04577852]\n",
            " [ 0.00846979]\n",
            " [-0.54087179]\n",
            " [ 0.21185553]\n",
            " [ 0.33332181]]\n",
            "\n",
            "Model Predict Output:\n",
            " [[ 0.04577851]\n",
            " [ 0.0084697 ]\n",
            " [-0.54087186]\n",
            " [ 0.21185547]\n",
            " [ 0.33332175]]\n"
          ]
        }
      ]
    }
  ]
}